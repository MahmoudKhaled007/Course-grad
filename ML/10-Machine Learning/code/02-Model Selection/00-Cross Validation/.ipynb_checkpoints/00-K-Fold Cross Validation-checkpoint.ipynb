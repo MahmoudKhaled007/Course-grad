{
 "cells": [
  {
   "cell_type": "code",
   "execution_count": 1,
   "metadata": {},
   "outputs": [],
   "source": [
    "import pandas as pd"
   ]
  },
  {
   "cell_type": "code",
   "execution_count": 2,
   "metadata": {},
   "outputs": [
    {
     "data": {
      "text/html": [
       "<div>\n",
       "<style scoped>\n",
       "    .dataframe tbody tr th:only-of-type {\n",
       "        vertical-align: middle;\n",
       "    }\n",
       "\n",
       "    .dataframe tbody tr th {\n",
       "        vertical-align: top;\n",
       "    }\n",
       "\n",
       "    .dataframe thead th {\n",
       "        text-align: right;\n",
       "    }\n",
       "</style>\n",
       "<table border=\"1\" class=\"dataframe\">\n",
       "  <thead>\n",
       "    <tr style=\"text-align: right;\">\n",
       "      <th></th>\n",
       "      <th>age</th>\n",
       "      <th>wc</th>\n",
       "      <th>education</th>\n",
       "      <th>marital status</th>\n",
       "      <th>race</th>\n",
       "      <th>gender</th>\n",
       "      <th>hours per week</th>\n",
       "      <th>IncomeClass</th>\n",
       "    </tr>\n",
       "  </thead>\n",
       "  <tbody>\n",
       "    <tr>\n",
       "      <th>0</th>\n",
       "      <td>38</td>\n",
       "      <td>Private</td>\n",
       "      <td>HS-grad</td>\n",
       "      <td>Divorced</td>\n",
       "      <td>White</td>\n",
       "      <td>Male</td>\n",
       "      <td>40</td>\n",
       "      <td>&lt;=50K</td>\n",
       "    </tr>\n",
       "    <tr>\n",
       "      <th>1</th>\n",
       "      <td>28</td>\n",
       "      <td>Private</td>\n",
       "      <td>Bachelors</td>\n",
       "      <td>Married</td>\n",
       "      <td>Black</td>\n",
       "      <td>Female</td>\n",
       "      <td>40</td>\n",
       "      <td>&lt;=50K</td>\n",
       "    </tr>\n",
       "    <tr>\n",
       "      <th>2</th>\n",
       "      <td>37</td>\n",
       "      <td>Private</td>\n",
       "      <td>Masters</td>\n",
       "      <td>Married</td>\n",
       "      <td>White</td>\n",
       "      <td>Female</td>\n",
       "      <td>40</td>\n",
       "      <td>&lt;=50K</td>\n",
       "    </tr>\n",
       "    <tr>\n",
       "      <th>3</th>\n",
       "      <td>31</td>\n",
       "      <td>Private</td>\n",
       "      <td>Masters</td>\n",
       "      <td>Never-married</td>\n",
       "      <td>White</td>\n",
       "      <td>Female</td>\n",
       "      <td>50</td>\n",
       "      <td>&gt;50K</td>\n",
       "    </tr>\n",
       "    <tr>\n",
       "      <th>4</th>\n",
       "      <td>42</td>\n",
       "      <td>Private</td>\n",
       "      <td>Bachelors</td>\n",
       "      <td>Married</td>\n",
       "      <td>White</td>\n",
       "      <td>Male</td>\n",
       "      <td>40</td>\n",
       "      <td>&gt;50K</td>\n",
       "    </tr>\n",
       "    <tr>\n",
       "      <th>...</th>\n",
       "      <td>...</td>\n",
       "      <td>...</td>\n",
       "      <td>...</td>\n",
       "      <td>...</td>\n",
       "      <td>...</td>\n",
       "      <td>...</td>\n",
       "      <td>...</td>\n",
       "      <td>...</td>\n",
       "    </tr>\n",
       "    <tr>\n",
       "      <th>19782</th>\n",
       "      <td>53</td>\n",
       "      <td>Private</td>\n",
       "      <td>Masters</td>\n",
       "      <td>Married</td>\n",
       "      <td>White</td>\n",
       "      <td>Male</td>\n",
       "      <td>40</td>\n",
       "      <td>&gt;50K</td>\n",
       "    </tr>\n",
       "    <tr>\n",
       "      <th>19783</th>\n",
       "      <td>22</td>\n",
       "      <td>Private</td>\n",
       "      <td>Some-college</td>\n",
       "      <td>Never-married</td>\n",
       "      <td>White</td>\n",
       "      <td>Male</td>\n",
       "      <td>40</td>\n",
       "      <td>&lt;=50K</td>\n",
       "    </tr>\n",
       "    <tr>\n",
       "      <th>19784</th>\n",
       "      <td>40</td>\n",
       "      <td>Private</td>\n",
       "      <td>HS-grad</td>\n",
       "      <td>Married</td>\n",
       "      <td>White</td>\n",
       "      <td>Male</td>\n",
       "      <td>40</td>\n",
       "      <td>&gt;50K</td>\n",
       "    </tr>\n",
       "    <tr>\n",
       "      <th>19785</th>\n",
       "      <td>58</td>\n",
       "      <td>Private</td>\n",
       "      <td>HS-grad</td>\n",
       "      <td>Widowed</td>\n",
       "      <td>White</td>\n",
       "      <td>Female</td>\n",
       "      <td>40</td>\n",
       "      <td>&lt;=50K</td>\n",
       "    </tr>\n",
       "    <tr>\n",
       "      <th>19786</th>\n",
       "      <td>22</td>\n",
       "      <td>Private</td>\n",
       "      <td>HS-grad</td>\n",
       "      <td>Never-married</td>\n",
       "      <td>White</td>\n",
       "      <td>Male</td>\n",
       "      <td>20</td>\n",
       "      <td>&lt;=50K</td>\n",
       "    </tr>\n",
       "  </tbody>\n",
       "</table>\n",
       "<p>19787 rows × 8 columns</p>\n",
       "</div>"
      ],
      "text/plain": [
       "       age        wc      education  marital status    race   gender  \\\n",
       "0       38   Private        HS-grad        Divorced   White     Male   \n",
       "1       28   Private      Bachelors         Married   Black   Female   \n",
       "2       37   Private        Masters         Married   White   Female   \n",
       "3       31   Private        Masters   Never-married   White   Female   \n",
       "4       42   Private      Bachelors         Married   White     Male   \n",
       "...    ...       ...            ...             ...     ...      ...   \n",
       "19782   53   Private        Masters         Married   White     Male   \n",
       "19783   22   Private   Some-college   Never-married   White     Male   \n",
       "19784   40   Private        HS-grad         Married   White     Male   \n",
       "19785   58   Private        HS-grad         Widowed   White   Female   \n",
       "19786   22   Private        HS-grad   Never-married   White     Male   \n",
       "\n",
       "       hours per week IncomeClass  \n",
       "0                  40       <=50K  \n",
       "1                  40       <=50K  \n",
       "2                  40       <=50K  \n",
       "3                  50        >50K  \n",
       "4                  40        >50K  \n",
       "...               ...         ...  \n",
       "19782              40        >50K  \n",
       "19783              40       <=50K  \n",
       "19784              40        >50K  \n",
       "19785              40       <=50K  \n",
       "19786              20       <=50K  \n",
       "\n",
       "[19787 rows x 8 columns]"
      ]
     },
     "execution_count": 2,
     "metadata": {},
     "output_type": "execute_result"
    }
   ],
   "source": [
    "df = pd.read_csv('AdultIncome.csv')\n",
    "df"
   ]
  },
  {
   "cell_type": "code",
   "execution_count": 3,
   "metadata": {},
   "outputs": [
    {
     "name": "stdout",
     "output_type": "stream",
     "text": [
      "<class 'pandas.core.frame.DataFrame'>\n",
      "RangeIndex: 19787 entries, 0 to 19786\n",
      "Data columns (total 8 columns):\n",
      " #   Column          Non-Null Count  Dtype \n",
      "---  ------          --------------  ----- \n",
      " 0   age             19787 non-null  int64 \n",
      " 1   wc              19787 non-null  object\n",
      " 2   education       19787 non-null  object\n",
      " 3   marital status  19787 non-null  object\n",
      " 4   race            19787 non-null  object\n",
      " 5   gender          19787 non-null  object\n",
      " 6   hours per week  19787 non-null  int64 \n",
      " 7   IncomeClass     19787 non-null  object\n",
      "dtypes: int64(2), object(6)\n",
      "memory usage: 1.2+ MB\n"
     ]
    }
   ],
   "source": [
    "df.info()"
   ]
  },
  {
   "cell_type": "code",
   "execution_count": 4,
   "metadata": {},
   "outputs": [
    {
     "data": {
      "text/plain": [
       "Married           9285\n",
       " Never-married    7056\n",
       " Divorced         2917\n",
       " Widowed           529\n",
       "Name: marital status, dtype: int64"
      ]
     },
     "execution_count": 4,
     "metadata": {},
     "output_type": "execute_result"
    }
   ],
   "source": [
    "df['marital status'].value_counts()"
   ]
  },
  {
   "cell_type": "code",
   "execution_count": 5,
   "metadata": {},
   "outputs": [
    {
     "data": {
      "text/html": [
       "<div>\n",
       "<style scoped>\n",
       "    .dataframe tbody tr th:only-of-type {\n",
       "        vertical-align: middle;\n",
       "    }\n",
       "\n",
       "    .dataframe tbody tr th {\n",
       "        vertical-align: top;\n",
       "    }\n",
       "\n",
       "    .dataframe thead th {\n",
       "        text-align: right;\n",
       "    }\n",
       "</style>\n",
       "<table border=\"1\" class=\"dataframe\">\n",
       "  <thead>\n",
       "    <tr style=\"text-align: right;\">\n",
       "      <th></th>\n",
       "      <th>age</th>\n",
       "      <th>hours per week</th>\n",
       "      <th>wc_ Local-gov</th>\n",
       "      <th>wc_ Never-worked</th>\n",
       "      <th>wc_ Private</th>\n",
       "      <th>education_ Doctorate</th>\n",
       "      <th>education_ HS-grad</th>\n",
       "      <th>education_ Masters</th>\n",
       "      <th>education_ Preschool</th>\n",
       "      <th>education_ Prof-school</th>\n",
       "      <th>education_ Some-college</th>\n",
       "      <th>marital status_ Never-married</th>\n",
       "      <th>marital status_ Widowed</th>\n",
       "      <th>marital status_Married</th>\n",
       "      <th>race_ Asian-Pac-Islander</th>\n",
       "      <th>race_ Black</th>\n",
       "      <th>race_ Other</th>\n",
       "      <th>race_ White</th>\n",
       "      <th>gender_ Male</th>\n",
       "      <th>IncomeClass_ &gt;50K</th>\n",
       "    </tr>\n",
       "  </thead>\n",
       "  <tbody>\n",
       "    <tr>\n",
       "      <th>0</th>\n",
       "      <td>38</td>\n",
       "      <td>40</td>\n",
       "      <td>0</td>\n",
       "      <td>0</td>\n",
       "      <td>1</td>\n",
       "      <td>0</td>\n",
       "      <td>1</td>\n",
       "      <td>0</td>\n",
       "      <td>0</td>\n",
       "      <td>0</td>\n",
       "      <td>0</td>\n",
       "      <td>0</td>\n",
       "      <td>0</td>\n",
       "      <td>0</td>\n",
       "      <td>0</td>\n",
       "      <td>0</td>\n",
       "      <td>0</td>\n",
       "      <td>1</td>\n",
       "      <td>1</td>\n",
       "      <td>0</td>\n",
       "    </tr>\n",
       "    <tr>\n",
       "      <th>1</th>\n",
       "      <td>28</td>\n",
       "      <td>40</td>\n",
       "      <td>0</td>\n",
       "      <td>0</td>\n",
       "      <td>1</td>\n",
       "      <td>0</td>\n",
       "      <td>0</td>\n",
       "      <td>0</td>\n",
       "      <td>0</td>\n",
       "      <td>0</td>\n",
       "      <td>0</td>\n",
       "      <td>0</td>\n",
       "      <td>0</td>\n",
       "      <td>1</td>\n",
       "      <td>0</td>\n",
       "      <td>1</td>\n",
       "      <td>0</td>\n",
       "      <td>0</td>\n",
       "      <td>0</td>\n",
       "      <td>0</td>\n",
       "    </tr>\n",
       "    <tr>\n",
       "      <th>2</th>\n",
       "      <td>37</td>\n",
       "      <td>40</td>\n",
       "      <td>0</td>\n",
       "      <td>0</td>\n",
       "      <td>1</td>\n",
       "      <td>0</td>\n",
       "      <td>0</td>\n",
       "      <td>1</td>\n",
       "      <td>0</td>\n",
       "      <td>0</td>\n",
       "      <td>0</td>\n",
       "      <td>0</td>\n",
       "      <td>0</td>\n",
       "      <td>1</td>\n",
       "      <td>0</td>\n",
       "      <td>0</td>\n",
       "      <td>0</td>\n",
       "      <td>1</td>\n",
       "      <td>0</td>\n",
       "      <td>0</td>\n",
       "    </tr>\n",
       "    <tr>\n",
       "      <th>3</th>\n",
       "      <td>31</td>\n",
       "      <td>50</td>\n",
       "      <td>0</td>\n",
       "      <td>0</td>\n",
       "      <td>1</td>\n",
       "      <td>0</td>\n",
       "      <td>0</td>\n",
       "      <td>1</td>\n",
       "      <td>0</td>\n",
       "      <td>0</td>\n",
       "      <td>0</td>\n",
       "      <td>1</td>\n",
       "      <td>0</td>\n",
       "      <td>0</td>\n",
       "      <td>0</td>\n",
       "      <td>0</td>\n",
       "      <td>0</td>\n",
       "      <td>1</td>\n",
       "      <td>0</td>\n",
       "      <td>1</td>\n",
       "    </tr>\n",
       "    <tr>\n",
       "      <th>4</th>\n",
       "      <td>42</td>\n",
       "      <td>40</td>\n",
       "      <td>0</td>\n",
       "      <td>0</td>\n",
       "      <td>1</td>\n",
       "      <td>0</td>\n",
       "      <td>0</td>\n",
       "      <td>0</td>\n",
       "      <td>0</td>\n",
       "      <td>0</td>\n",
       "      <td>0</td>\n",
       "      <td>0</td>\n",
       "      <td>0</td>\n",
       "      <td>1</td>\n",
       "      <td>0</td>\n",
       "      <td>0</td>\n",
       "      <td>0</td>\n",
       "      <td>1</td>\n",
       "      <td>1</td>\n",
       "      <td>1</td>\n",
       "    </tr>\n",
       "    <tr>\n",
       "      <th>...</th>\n",
       "      <td>...</td>\n",
       "      <td>...</td>\n",
       "      <td>...</td>\n",
       "      <td>...</td>\n",
       "      <td>...</td>\n",
       "      <td>...</td>\n",
       "      <td>...</td>\n",
       "      <td>...</td>\n",
       "      <td>...</td>\n",
       "      <td>...</td>\n",
       "      <td>...</td>\n",
       "      <td>...</td>\n",
       "      <td>...</td>\n",
       "      <td>...</td>\n",
       "      <td>...</td>\n",
       "      <td>...</td>\n",
       "      <td>...</td>\n",
       "      <td>...</td>\n",
       "      <td>...</td>\n",
       "      <td>...</td>\n",
       "    </tr>\n",
       "    <tr>\n",
       "      <th>19782</th>\n",
       "      <td>53</td>\n",
       "      <td>40</td>\n",
       "      <td>0</td>\n",
       "      <td>0</td>\n",
       "      <td>1</td>\n",
       "      <td>0</td>\n",
       "      <td>0</td>\n",
       "      <td>1</td>\n",
       "      <td>0</td>\n",
       "      <td>0</td>\n",
       "      <td>0</td>\n",
       "      <td>0</td>\n",
       "      <td>0</td>\n",
       "      <td>1</td>\n",
       "      <td>0</td>\n",
       "      <td>0</td>\n",
       "      <td>0</td>\n",
       "      <td>1</td>\n",
       "      <td>1</td>\n",
       "      <td>1</td>\n",
       "    </tr>\n",
       "    <tr>\n",
       "      <th>19783</th>\n",
       "      <td>22</td>\n",
       "      <td>40</td>\n",
       "      <td>0</td>\n",
       "      <td>0</td>\n",
       "      <td>1</td>\n",
       "      <td>0</td>\n",
       "      <td>0</td>\n",
       "      <td>0</td>\n",
       "      <td>0</td>\n",
       "      <td>0</td>\n",
       "      <td>1</td>\n",
       "      <td>1</td>\n",
       "      <td>0</td>\n",
       "      <td>0</td>\n",
       "      <td>0</td>\n",
       "      <td>0</td>\n",
       "      <td>0</td>\n",
       "      <td>1</td>\n",
       "      <td>1</td>\n",
       "      <td>0</td>\n",
       "    </tr>\n",
       "    <tr>\n",
       "      <th>19784</th>\n",
       "      <td>40</td>\n",
       "      <td>40</td>\n",
       "      <td>0</td>\n",
       "      <td>0</td>\n",
       "      <td>1</td>\n",
       "      <td>0</td>\n",
       "      <td>1</td>\n",
       "      <td>0</td>\n",
       "      <td>0</td>\n",
       "      <td>0</td>\n",
       "      <td>0</td>\n",
       "      <td>0</td>\n",
       "      <td>0</td>\n",
       "      <td>1</td>\n",
       "      <td>0</td>\n",
       "      <td>0</td>\n",
       "      <td>0</td>\n",
       "      <td>1</td>\n",
       "      <td>1</td>\n",
       "      <td>1</td>\n",
       "    </tr>\n",
       "    <tr>\n",
       "      <th>19785</th>\n",
       "      <td>58</td>\n",
       "      <td>40</td>\n",
       "      <td>0</td>\n",
       "      <td>0</td>\n",
       "      <td>1</td>\n",
       "      <td>0</td>\n",
       "      <td>1</td>\n",
       "      <td>0</td>\n",
       "      <td>0</td>\n",
       "      <td>0</td>\n",
       "      <td>0</td>\n",
       "      <td>0</td>\n",
       "      <td>1</td>\n",
       "      <td>0</td>\n",
       "      <td>0</td>\n",
       "      <td>0</td>\n",
       "      <td>0</td>\n",
       "      <td>1</td>\n",
       "      <td>0</td>\n",
       "      <td>0</td>\n",
       "    </tr>\n",
       "    <tr>\n",
       "      <th>19786</th>\n",
       "      <td>22</td>\n",
       "      <td>20</td>\n",
       "      <td>0</td>\n",
       "      <td>0</td>\n",
       "      <td>1</td>\n",
       "      <td>0</td>\n",
       "      <td>1</td>\n",
       "      <td>0</td>\n",
       "      <td>0</td>\n",
       "      <td>0</td>\n",
       "      <td>0</td>\n",
       "      <td>1</td>\n",
       "      <td>0</td>\n",
       "      <td>0</td>\n",
       "      <td>0</td>\n",
       "      <td>0</td>\n",
       "      <td>0</td>\n",
       "      <td>1</td>\n",
       "      <td>1</td>\n",
       "      <td>0</td>\n",
       "    </tr>\n",
       "  </tbody>\n",
       "</table>\n",
       "<p>19787 rows × 20 columns</p>\n",
       "</div>"
      ],
      "text/plain": [
       "       age  hours per week  wc_ Local-gov  wc_ Never-worked  wc_ Private  \\\n",
       "0       38              40              0                 0            1   \n",
       "1       28              40              0                 0            1   \n",
       "2       37              40              0                 0            1   \n",
       "3       31              50              0                 0            1   \n",
       "4       42              40              0                 0            1   \n",
       "...    ...             ...            ...               ...          ...   \n",
       "19782   53              40              0                 0            1   \n",
       "19783   22              40              0                 0            1   \n",
       "19784   40              40              0                 0            1   \n",
       "19785   58              40              0                 0            1   \n",
       "19786   22              20              0                 0            1   \n",
       "\n",
       "       education_ Doctorate  education_ HS-grad  education_ Masters  \\\n",
       "0                         0                   1                   0   \n",
       "1                         0                   0                   0   \n",
       "2                         0                   0                   1   \n",
       "3                         0                   0                   1   \n",
       "4                         0                   0                   0   \n",
       "...                     ...                 ...                 ...   \n",
       "19782                     0                   0                   1   \n",
       "19783                     0                   0                   0   \n",
       "19784                     0                   1                   0   \n",
       "19785                     0                   1                   0   \n",
       "19786                     0                   1                   0   \n",
       "\n",
       "       education_ Preschool  education_ Prof-school  education_ Some-college  \\\n",
       "0                         0                       0                        0   \n",
       "1                         0                       0                        0   \n",
       "2                         0                       0                        0   \n",
       "3                         0                       0                        0   \n",
       "4                         0                       0                        0   \n",
       "...                     ...                     ...                      ...   \n",
       "19782                     0                       0                        0   \n",
       "19783                     0                       0                        1   \n",
       "19784                     0                       0                        0   \n",
       "19785                     0                       0                        0   \n",
       "19786                     0                       0                        0   \n",
       "\n",
       "       marital status_ Never-married  marital status_ Widowed  \\\n",
       "0                                  0                        0   \n",
       "1                                  0                        0   \n",
       "2                                  0                        0   \n",
       "3                                  1                        0   \n",
       "4                                  0                        0   \n",
       "...                              ...                      ...   \n",
       "19782                              0                        0   \n",
       "19783                              1                        0   \n",
       "19784                              0                        0   \n",
       "19785                              0                        1   \n",
       "19786                              1                        0   \n",
       "\n",
       "       marital status_Married  race_ Asian-Pac-Islander  race_ Black  \\\n",
       "0                           0                         0            0   \n",
       "1                           1                         0            1   \n",
       "2                           1                         0            0   \n",
       "3                           0                         0            0   \n",
       "4                           1                         0            0   \n",
       "...                       ...                       ...          ...   \n",
       "19782                       1                         0            0   \n",
       "19783                       0                         0            0   \n",
       "19784                       1                         0            0   \n",
       "19785                       0                         0            0   \n",
       "19786                       0                         0            0   \n",
       "\n",
       "       race_ Other  race_ White  gender_ Male  IncomeClass_ >50K  \n",
       "0                0            1             1                  0  \n",
       "1                0            0             0                  0  \n",
       "2                0            1             0                  0  \n",
       "3                0            1             0                  1  \n",
       "4                0            1             1                  1  \n",
       "...            ...          ...           ...                ...  \n",
       "19782            0            1             1                  1  \n",
       "19783            0            1             1                  0  \n",
       "19784            0            1             1                  1  \n",
       "19785            0            1             0                  0  \n",
       "19786            0            1             1                  0  \n",
       "\n",
       "[19787 rows x 20 columns]"
      ]
     },
     "execution_count": 5,
     "metadata": {},
     "output_type": "execute_result"
    }
   ],
   "source": [
    "df = pd.get_dummies(df, drop_first=True)\n",
    "df"
   ]
  },
  {
   "cell_type": "code",
   "execution_count": 6,
   "metadata": {},
   "outputs": [],
   "source": [
    "X = df.drop('IncomeClass_ >50K', axis=1)\n",
    "Y = df['IncomeClass_ >50K']"
   ]
  },
  {
   "cell_type": "code",
   "execution_count": 7,
   "metadata": {},
   "outputs": [],
   "source": [
    "from sklearn.tree import DecisionTreeClassifier\n",
    "from sklearn.ensemble import RandomForestClassifier\n",
    "from sklearn.svm import SVC"
   ]
  },
  {
   "cell_type": "code",
   "execution_count": 8,
   "metadata": {},
   "outputs": [],
   "source": [
    "dtc = DecisionTreeClassifier()\n",
    "rfc = RandomForestClassifier()\n",
    "svc = SVC()"
   ]
  },
  {
   "cell_type": "markdown",
   "metadata": {},
   "source": [
    "**DecisionTreeClassifier**"
   ]
  },
  {
   "cell_type": "code",
   "execution_count": 9,
   "metadata": {},
   "outputs": [],
   "source": [
    "from sklearn.model_selection import cross_validate, cross_val_predict\n",
    "from sklearn.metrics import accuracy_score"
   ]
  },
  {
   "cell_type": "code",
   "execution_count": 19,
   "metadata": {},
   "outputs": [
    {
     "data": {
      "text/plain": [
       "{'fit_time': array([0.07099891, 0.07799911, 0.08700132, 0.0849998 , 0.07799506,\n",
       "        0.08199811, 0.08399892, 0.09099603, 0.08299923, 0.08399725]),\n",
       " 'score_time': array([0.01399994, 0.01000118, 0.0090003 , 0.01100016, 0.0090003 ,\n",
       "        0.00999999, 0.00999951, 0.00900173, 0.00899863, 0.01000071]),\n",
       " 'test_accuracy': array([0.77412835, 0.77210712, 0.78473977, 0.75846387, 0.78575038,\n",
       "        0.79029813, 0.78676099, 0.79322548, 0.77553084, 0.79373104]),\n",
       " 'train_accuracy': array([0.90408805, 0.90571653, 0.90380728, 0.90571653, 0.90358266,\n",
       "        0.90380728, 0.90380728, 0.90414959, 0.90532877, 0.90353192]),\n",
       " 'test_precision': array([0.5787234 , 0.58495146, 0.60674157, 0.54564756, 0.60566449,\n",
       "        0.61810155, 0.61210762, 0.62280702, 0.583878  , 0.62255965]),\n",
       " 'train_precision': array([0.8817507 , 0.8845761 , 0.87868769, 0.88320611, 0.87798678,\n",
       "        0.8724043 , 0.87865683, 0.87151394, 0.86889271, 0.87834054]),\n",
       " 'test_recall': array([0.52207294, 0.46257198, 0.51823417, 0.49328215, 0.53358925,\n",
       "        0.53639847, 0.52298851, 0.54510557, 0.51439539, 0.55086372]),\n",
       " 'train_recall': array([0.73438499, 0.7384353 , 0.73651673, 0.73992752, 0.73630356,\n",
       "        0.7434968 , 0.73646055, 0.74610957, 0.75442336, 0.73566404])}"
      ]
     },
     "execution_count": 19,
     "metadata": {},
     "output_type": "execute_result"
    }
   ],
   "source": [
    "cv_results_dtc = cross_validate(dtc, X, Y, cv=10, return_train_score=True, n_jobs=-1, scoring=('accuracy', 'precision', 'recall'))\n",
    "cv_results_dtc"
   ]
  },
  {
   "cell_type": "code",
   "execution_count": 22,
   "metadata": {},
   "outputs": [
    {
     "data": {
      "text/plain": [
       "0.9043535882172298"
      ]
     },
     "execution_count": 22,
     "metadata": {},
     "output_type": "execute_result"
    }
   ],
   "source": [
    "cv_results_dtc['train_accuracy'].mean()"
   ]
  },
  {
   "cell_type": "code",
   "execution_count": 23,
   "metadata": {},
   "outputs": [
    {
     "data": {
      "text/plain": [
       "0.7814735971379975"
      ]
     },
     "execution_count": 23,
     "metadata": {},
     "output_type": "execute_result"
    }
   ],
   "source": [
    "cv_results_dtc['test_accuracy'].mean()"
   ]
  },
  {
   "cell_type": "code",
   "execution_count": 25,
   "metadata": {},
   "outputs": [
    {
     "data": {
      "text/plain": [
       "array([0, 0, 1, ..., 0, 0, 0], dtype=uint8)"
      ]
     },
     "execution_count": 25,
     "metadata": {},
     "output_type": "execute_result"
    }
   ],
   "source": [
    "# y_pred = cross_val_predict(dtc, X, Y, cv=10, n_jobs=-1)\n",
    "# y_pred"
   ]
  },
  {
   "cell_type": "code",
   "execution_count": 26,
   "metadata": {},
   "outputs": [
    {
     "data": {
      "text/plain": [
       "0.7819275281750644"
      ]
     },
     "execution_count": 26,
     "metadata": {},
     "output_type": "execute_result"
    }
   ],
   "source": [
    "# accuracy_score(Y, y_pred)"
   ]
  },
  {
   "cell_type": "markdown",
   "metadata": {},
   "source": [
    "**RandomForestClassifier**"
   ]
  },
  {
   "cell_type": "code",
   "execution_count": 27,
   "metadata": {},
   "outputs": [
    {
     "data": {
      "text/plain": [
       "{'fit_time': array([2.50405073, 2.55814219, 2.46104765, 2.38900328, 2.4099977 ,\n",
       "        2.41899681, 2.39099884, 2.35199833, 2.37100244, 2.37099862]),\n",
       " 'score_time': array([0.11299849, 0.08999825, 0.10800052, 0.09699702, 0.09799981,\n",
       "        0.09300184, 0.099998  , 0.09700131, 0.10099912, 0.09199882]),\n",
       " 'test_accuracy': array([0.79535119, 0.78524507, 0.80242547, 0.77614957, 0.80747852,\n",
       "        0.79939363, 0.80141486, 0.81395349, 0.79524772, 0.79777553]),\n",
       " 'train_accuracy': array([0.90408805, 0.90571653, 0.90380728, 0.90571653, 0.90358266,\n",
       "        0.90375112, 0.90380728, 0.90409344, 0.90532877, 0.90341962]),\n",
       " 'test_precision': array([0.61693548, 0.61059908, 0.63948498, 0.58091286, 0.64957265,\n",
       "        0.63616558, 0.63870968, 0.67268623, 0.62236287, 0.6252588 ]),\n",
       " 'train_precision': array([0.84987098, 0.84974454, 0.84135718, 0.847485  , 0.84389454,\n",
       "        0.83972603, 0.84116434, 0.84279476, 0.84311487, 0.84830012]),\n",
       " 'test_recall': array([0.58733205, 0.50863724, 0.57197697, 0.53742802, 0.58349328,\n",
       "        0.55938697, 0.56896552, 0.57197697, 0.56621881, 0.57965451]),\n",
       " 'train_recall': array([0.77232999, 0.78000426, 0.78234918, 0.7829887 , 0.77787252,\n",
       "        0.78422175, 0.78251599, 0.78170966, 0.78703901, 0.77126412])}"
      ]
     },
     "execution_count": 27,
     "metadata": {},
     "output_type": "execute_result"
    }
   ],
   "source": [
    "cv_results_rfc = cross_validate(rfc, X, Y, cv=10, return_train_score=True, n_jobs=-1, scoring=('accuracy', 'precision', 'recall'))\n",
    "cv_results_rfc"
   ]
  },
  {
   "cell_type": "code",
   "execution_count": 28,
   "metadata": {},
   "outputs": [
    {
     "data": {
      "text/plain": [
       "0.9043311273482617"
      ]
     },
     "execution_count": 28,
     "metadata": {},
     "output_type": "execute_result"
    }
   ],
   "source": [
    "cv_results_rfc['train_accuracy'].mean()"
   ]
  },
  {
   "cell_type": "code",
   "execution_count": 29,
   "metadata": {},
   "outputs": [
    {
     "data": {
      "text/plain": [
       "0.7974435056464975"
      ]
     },
     "execution_count": 29,
     "metadata": {},
     "output_type": "execute_result"
    }
   ],
   "source": [
    "cv_results_rfc['test_accuracy'].mean()"
   ]
  },
  {
   "cell_type": "markdown",
   "metadata": {},
   "source": [
    "**SVM**"
   ]
  },
  {
   "cell_type": "code",
   "execution_count": 30,
   "metadata": {},
   "outputs": [
    {
     "data": {
      "text/plain": [
       "{'fit_time': array([24.55687189, 23.11887574, 23.45387411, 22.91487288, 23.17187572,\n",
       "        23.34787393, 23.30687022, 23.30887151, 23.27186966, 23.49687076]),\n",
       " 'score_time': array([1.56759977, 1.56400108, 1.41700006, 1.47399902, 1.42900324,\n",
       "        1.41900206, 1.43599987, 1.43200159, 1.45900083, 1.47000384]),\n",
       " 'test_accuracy': array([0.78221324, 0.76755937, 0.76301162, 0.76856998, 0.78524507,\n",
       "        0.78322385, 0.77311774, 0.77755308, 0.78008089, 0.77553084]),\n",
       " 'train_accuracy': array([0.77577493, 0.7771788 , 0.7753257 , 0.7777965 , 0.774708  ,\n",
       "        0.77459569, 0.77650494, 0.77702285, 0.77505756, 0.77679825]),\n",
       " 'test_precision': array([0.71226415, 0.65641026, 0.64130435, 0.65517241, 0.74      ,\n",
       "        0.72463768, 0.69109948, 0.70984456, 0.72631579, 0.67579909]),\n",
       " 'train_precision': array([0.69519016, 0.69917355, 0.69491525, 0.69902386, 0.68913649,\n",
       "        0.68924972, 0.69420131, 0.6980198 , 0.69405099, 0.69800885]),\n",
       " 'test_recall': array([0.28982726, 0.24568138, 0.22648752, 0.25527831, 0.2840691 ,\n",
       "        0.28735632, 0.25287356, 0.26295585, 0.26487524, 0.2840691 ]),\n",
       " 'train_recall': array([0.26497548, 0.27051801, 0.26220422, 0.2747815 , 0.26369644,\n",
       "        0.26247335, 0.27057569, 0.27051801, 0.26113835, 0.26902579])}"
      ]
     },
     "execution_count": 30,
     "metadata": {},
     "output_type": "execute_result"
    }
   ],
   "source": [
    "cv_results_svc = cross_validate(svc, X, Y, cv=10, return_train_score=True, n_jobs=-1, scoring=('accuracy', 'precision', 'recall'))\n",
    "cv_results_svc"
   ]
  },
  {
   "cell_type": "code",
   "execution_count": 31,
   "metadata": {},
   "outputs": [
    {
     "data": {
      "text/plain": [
       "0.776076320313023"
      ]
     },
     "execution_count": 31,
     "metadata": {},
     "output_type": "execute_result"
    }
   ],
   "source": [
    "cv_results_svc['train_accuracy'].mean()"
   ]
  },
  {
   "cell_type": "code",
   "execution_count": 32,
   "metadata": {},
   "outputs": [
    {
     "data": {
      "text/plain": [
       "0.7756105692174301"
      ]
     },
     "execution_count": 32,
     "metadata": {},
     "output_type": "execute_result"
    }
   ],
   "source": [
    "cv_results_svc['test_accuracy'].mean()"
   ]
  },
  {
   "cell_type": "markdown",
   "metadata": {},
   "source": [
    "# Great Work!"
   ]
  }
 ],
 "metadata": {
  "kernelspec": {
   "display_name": "Tensorflow GPU",
   "language": "python",
   "name": "tensorflow"
  },
  "language_info": {
   "codemirror_mode": {
    "name": "ipython",
    "version": 3
   },
   "file_extension": ".py",
   "mimetype": "text/x-python",
   "name": "python",
   "nbconvert_exporter": "python",
   "pygments_lexer": "ipython3",
   "version": "3.7.6"
  }
 },
 "nbformat": 4,
 "nbformat_minor": 4
}
